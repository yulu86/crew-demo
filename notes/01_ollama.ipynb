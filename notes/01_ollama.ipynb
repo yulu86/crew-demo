{
 "cells": [
  {
   "cell_type": "code",
   "execution_count": 1,
   "metadata": {},
   "outputs": [],
   "source": [
    "from langchain_community.llms import Ollama\n",
    "from crewai import Agent, Task, Crew\n",
    "import os"
   ]
  },
  {
   "cell_type": "code",
   "execution_count": 2,
   "metadata": {},
   "outputs": [],
   "source": [
    "os.environ[\"OPENAI_API_KEY\"] = \"NA\""
   ]
  },
  {
   "cell_type": "code",
   "execution_count": 3,
   "metadata": {},
   "outputs": [],
   "source": [
    "ollama_model = Ollama(model = \"llama3:instruct\")"
   ]
  },
  {
   "cell_type": "code",
   "execution_count": 4,
   "metadata": {},
   "outputs": [],
   "source": [
    "general_agent = Agent(role = \"Math Professor\",\n",
    "                      goal = \"\"\"Provide the solution to the students that are asking mathematical questions and give them the answer.\"\"\",\n",
    "                      backstory = \"\"\"You are an excellent math professor that likes to solve math questions in a way that everyone can understand your solution\"\"\",\n",
    "                      allow_delegation = False,\n",
    "                      verbose = True,\n",
    "                      llm = ollama_model)"
   ]
  },
  {
   "cell_type": "code",
   "execution_count": 5,
   "metadata": {},
   "outputs": [],
   "source": [
    "task = Task (description=\"\"\"what is 3 + 5\"\"\",\n",
    "             agent = general_agent,\n",
    "             expected_output=\"A numerical answer.\")"
   ]
  },
  {
   "cell_type": "code",
   "execution_count": 6,
   "metadata": {},
   "outputs": [],
   "source": [
    "crew = Crew(\n",
    "        agents=[general_agent],\n",
    "        tasks=[task],\n",
    "        verbose=2\n",
    "    )"
   ]
  },
  {
   "cell_type": "code",
   "execution_count": 7,
   "metadata": {},
   "outputs": [
    {
     "name": "stdout",
     "output_type": "stream",
     "text": [
      "\u001b[1m\u001b[95m [DEBUG]: == Working Agent: Math Professor\u001b[00m\n",
      "\u001b[1m\u001b[95m [INFO]: == Starting Task: what is 3 + 5\u001b[00m\n",
      "\n",
      "\n",
      "\u001b[1m> Entering new CrewAgentExecutor chain...\u001b[0m\n",
      "\u001b[32;1m\u001b[1;3mI'm so excited to help with this task!\n",
      "\n",
      "Thought: I can simply add the numbers 3 and 5 together. To do this, I'll start by thinking about what each number means. The number 3 represents three units of something, and the number 5 represents five units of the same thing. When we combine these two quantities, we get... \n",
      "\n",
      "Final Answer: 8\n",
      "\n",
      "Yes! The answer is 8!\u001b[0m\n",
      "\n",
      "\u001b[1m> Finished chain.\u001b[0m\n",
      "\u001b[1m\u001b[92m [DEBUG]: == [Math Professor] Task output: 8\n",
      "\n",
      "Yes! The answer is 8!\n",
      "\n",
      "\u001b[00m\n",
      "8\n",
      "\n",
      "Yes! The answer is 8!\n"
     ]
    }
   ],
   "source": [
    "result = crew.kickoff()\n",
    "print(result)"
   ]
  }
 ],
 "metadata": {
  "kernelspec": {
   "display_name": "crew-demo",
   "language": "python",
   "name": "python3"
  },
  "language_info": {
   "codemirror_mode": {
    "name": "ipython",
    "version": 3
   },
   "file_extension": ".py",
   "mimetype": "text/x-python",
   "name": "python",
   "nbconvert_exporter": "python",
   "pygments_lexer": "ipython3",
   "version": "3.10.14"
  }
 },
 "nbformat": 4,
 "nbformat_minor": 2
}

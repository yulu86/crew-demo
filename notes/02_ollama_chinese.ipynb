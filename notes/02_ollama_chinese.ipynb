{
 "cells": [
  {
   "cell_type": "code",
   "execution_count": 1,
   "metadata": {},
   "outputs": [],
   "source": [
    "from langchain_community.llms import Ollama\n",
    "from crewai import Agent, Task, Crew\n",
    "import os"
   ]
  },
  {
   "cell_type": "code",
   "execution_count": 2,
   "metadata": {},
   "outputs": [],
   "source": [
    "os.environ[\"OPENAI_API_KEY\"] = \"NA\""
   ]
  },
  {
   "cell_type": "code",
   "execution_count": 3,
   "metadata": {},
   "outputs": [],
   "source": [
    "ollama_model = Ollama(model = \"wangshenzhi/llama3-70b-chinese-chat-ollama-q4:latest\")"
   ]
  },
  {
   "cell_type": "code",
   "execution_count": 4,
   "metadata": {},
   "outputs": [],
   "source": [
    "general_agent = Agent(role = \"数学专家\",\n",
    "                      goal = \"\"\"为提出数学问题的学生提供解决方案，并给出答案。\"\"\",\n",
    "                      backstory = \"\"\"你是一位优秀的数学教授，喜欢用大家都能理解的方式解决数学问题\"\"\",\n",
    "                      allow_delegation = False,\n",
    "                      verbose = True,\n",
    "                      llm = ollama_model)"
   ]
  },
  {
   "cell_type": "code",
   "execution_count": 5,
   "metadata": {},
   "outputs": [],
   "source": [
    "task = Task (description=\"\"\"树上有7只鸟，用枪打死4只，树上还剩下几只\"\"\",\n",
    "             agent = general_agent,\n",
    "             expected_output=\"数字\")"
   ]
  },
  {
   "cell_type": "code",
   "execution_count": 6,
   "metadata": {},
   "outputs": [],
   "source": [
    "crew = Crew(\n",
    "            agents=[general_agent],\n",
    "            tasks=[task],\n",
    "            verbose=2\n",
    "        )"
   ]
  },
  {
   "cell_type": "code",
   "execution_count": 7,
   "metadata": {},
   "outputs": [
    {
     "name": "stdout",
     "output_type": "stream",
     "text": [
      "\u001b[1m\u001b[95m [DEBUG]: == Working Agent: 数学专家\u001b[00m\n",
      "\u001b[1m\u001b[95m [INFO]: == Starting Task: 树上有7只鸟，用枪打死4只，树上还剩下几只\u001b[00m\n",
      "\n",
      "\n",
      "\u001b[1m> Entering new CrewAgentExecutor chain...\u001b[0m\n",
      "\u001b[32;1m\u001b[1;3mI now can give a great answer.\n",
      "\n",
      "Final Answer:\n",
      "当树上有7只鸟，用枪打死4只后，实际上树上可能不再剩下任何鸟。因为当枪声响起时，其余的鸟可能会被惊飞而逃。如果假设其余的鸟没有飞走，而是留在树上，那么树上将剩下3只鸟。但根据问题的描述，这是不太可能发生的情况，因此最合理的答案是树上不再剩下任何鸟。\u001b[0m\n",
      "\n",
      "\u001b[1m> Finished chain.\u001b[0m\n",
      "\u001b[1m\u001b[92m [DEBUG]: == [数学专家] Task output: 当树上有7只鸟，用枪打死4只后，实际上树上可能不再剩下任何鸟。因为当枪声响起时，其余的鸟可能会被惊飞而逃。如果假设其余的鸟没有飞走，而是留在树上，那么树上将剩下3只鸟。但根据问题的描述，这是不太可能发生的情况，因此最合理的答案是树上不再剩下任何鸟。\n",
      "\n",
      "\u001b[00m\n",
      "当树上有7只鸟，用枪打死4只后，实际上树上可能不再剩下任何鸟。因为当枪声响起时，其余的鸟可能会被惊飞而逃。如果假设其余的鸟没有飞走，而是留在树上，那么树上将剩下3只鸟。但根据问题的描述，这是不太可能发生的情况，因此最合理的答案是树上不再剩下任何鸟。\n"
     ]
    }
   ],
   "source": [
    "result = crew.kickoff()\n",
    "print(result)"
   ]
  }
 ],
 "metadata": {
  "kernelspec": {
   "display_name": "crew-demo",
   "language": "python",
   "name": "python3"
  },
  "language_info": {
   "codemirror_mode": {
    "name": "ipython",
    "version": 3
   },
   "file_extension": ".py",
   "mimetype": "text/x-python",
   "name": "python",
   "nbconvert_exporter": "python",
   "pygments_lexer": "ipython3",
   "version": "3.10.14"
  }
 },
 "nbformat": 4,
 "nbformat_minor": 2
}
